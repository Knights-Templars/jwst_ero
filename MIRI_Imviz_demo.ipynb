{
 "cells": [
  {
   "cell_type": "markdown",
   "id": "b58d6954",
   "metadata": {},
   "source": [
    "# Imviz Demo #1 \n",
    "\n",
    "### Ring Nebula ERO Release\n",
    "#### Make an Awesome 2 Color Image Using Imviz: https://jdaviz.readthedocs.io/en/latest/\n",
    "#### Watch the video in this repo for more details."
   ]
  },
  {
   "cell_type": "markdown",
   "id": "5b762602",
   "metadata": {},
   "source": [
    "### 1.<font color='white'>-</font>Python imports<a class=\"anchor\" id=\"py_imports\"></a> ###"
   ]
  },
  {
   "cell_type": "markdown",
   "id": "aa89533b-743f-46e4-aec4-4f61933c260c",
   "metadata": {},
   "source": [
    "### Create a new environment and install the requirements file in this repo by using the commands:\n",
    "#### conda create -n ero python=3.9\n",
    "#### conda activate ero\n",
    "#### pip install -r requirements.txt"
   ]
  },
  {
   "cell_type": "code",
   "execution_count": null,
   "id": "8c50eace",
   "metadata": {},
   "outputs": [],
   "source": [
    "import matplotlib.pyplot as plt\n",
    "import numpy as np\n",
    "from astropy import units as u\n",
    "from astropy.coordinates import SkyCoord, Angle\n",
    "from astropy.table import Table\n",
    "from astropy.utils.data import download_file\n",
    "from photutils import CircularAperture, SkyCircularAperture\n",
    "from regions import PixCoord, CirclePixelRegion, CircleSkyRegion\n",
    "from astropy.io import fits\n",
    "from astropy.wcs import WCS\n",
    "\n",
    "from jdaviz import Imviz\n",
    "from astropy.io import fits\n",
    "\n",
    "import astroquery\n",
    "from astroquery.mast import Mast\n",
    "from astroquery.mast import Observations\n",
    "from astropy.time import Time\n"
   ]
  },
  {
   "cell_type": "markdown",
   "id": "0a84fee2-bab7-422c-8f12-c7daaa1019a1",
   "metadata": {},
   "source": [
    "### 2.<font color='white'>-</font>Download Datas<a class=\"anchor\" id=\"py_imports\"></a> ###\n",
    "### You can skip this step if you've already download the data"
   ]
  },
  {
   "cell_type": "markdown",
   "id": "ea2de768-1179-4964-be2e-1afa90f5a2d5",
   "metadata": {},
   "source": [
    "### Get your MAST Token Here: https://auth.mast.stsci.edu/token"
   ]
  },
  {
   "cell_type": "code",
   "execution_count": null,
   "id": "dd5e723a-dd26-4609-a9bc-d4d6590ce916",
   "metadata": {},
   "outputs": [],
   "source": [
    "#Observations.login(token=\"YOUR_TOKEN_NUMBER\")\n",
    "sessioninfo = Observations.session_info()"
   ]
  },
  {
   "cell_type": "code",
   "execution_count": null,
   "id": "a18ba8d9-897a-49d3-b7f5-1ece21b9ad8c",
   "metadata": {},
   "outputs": [],
   "source": [
    "SERVICES = {\n",
    "            'SI_search': 'Mast.Jwst.Filtered.',\n",
    "            'Caom_search':'Mast.Caom.Filtered',\n",
    "            'Product_search':'Mast.Caom.Products'\n",
    "            }"
   ]
  },
  {
   "cell_type": "code",
   "execution_count": null,
   "id": "bce8262d-6ff3-4035-8335-8e943e5455dd",
   "metadata": {},
   "outputs": [],
   "source": [
    "obs = Observations.query_criteria(\n",
    "        obs_collection = 'JWST',\n",
    "        instrument_name = 'NIRCAM',\n",
    "        proposal_id = '02733',\n",
    "        calib_level = '3'\n",
    "    )\n",
    "#obs"
   ]
  },
  {
   "cell_type": "code",
   "execution_count": null,
   "id": "58eb92b5-e79b-4e98-a594-2269430ab31c",
   "metadata": {},
   "outputs": [],
   "source": [
    "products = Observations.get_product_list(obs)\n",
    "Observations.download_products(products, mrp_only=False)"
   ]
  },
  {
   "cell_type": "markdown",
   "id": "e68e2da1-b70c-4de5-b6d7-b73b89a02a3c",
   "metadata": {},
   "source": [
    "3.<font color='white'>-</font>Load and Manipulate Data <a class=\"anchor\" id=\"load\"></a>\n",
    "------------------"
   ]
  },
  {
   "cell_type": "code",
   "execution_count": null,
   "id": "0d980074",
   "metadata": {},
   "outputs": [],
   "source": [
    "# Define files\n",
    "\n",
    "file_090 = './mastDownload/JWST/jw02733-o001_t001_nircam_clear-f090w/jw02733-o001_t001_nircam_clear-f090w_i2d.fits'\n",
    "\n",
    "im = fits.open(file_090)\n",
    "hdr090 = im[\"SCI\",1].header\n",
    "w090 = WCS(im[\"SCI\",1].header)\n",
    "data090 = im[1].data"
   ]
  },
  {
   "cell_type": "code",
   "execution_count": null,
   "id": "d625111c-69f2-4605-9adb-0b011a803a62",
   "metadata": {},
   "outputs": [],
   "source": [
    "file_187 = './mastDownload/JWST/jw02733-o001_t001_nircam_clear-f187n/jw02733-o001_t001_nircam_clear-f187n_i2d.fits'\n",
    "\n",
    "im = fits.open(file_187)\n",
    "hdr187 = im[\"SCI\",1].header\n",
    "w187 = WCS(im[\"SCI\",1].header)\n",
    "data187 = im[1].data"
   ]
  },
  {
   "cell_type": "code",
   "execution_count": null,
   "id": "7da1ba66-b06f-4b73-9f2c-ea2abd4e597a",
   "metadata": {},
   "outputs": [],
   "source": [
    "# Open Imviz in sidecar window\n",
    "\n",
    "imviz = Imviz()\n",
    "imviz.show_in_sidecar()"
   ]
  },
  {
   "cell_type": "code",
   "execution_count": null,
   "id": "798105c6",
   "metadata": {},
   "outputs": [],
   "source": [
    "# Load data\n",
    "\n",
    "imviz.load_data(file_090, data_label='F090W')\n",
    "imviz.load_data(file_187, data_label='F187N')\n",
    "viewer = imviz.default_viewer\n",
    "viewer.cuts = '95%'"
   ]
  },
  {
   "cell_type": "code",
   "execution_count": null,
   "id": "f4cc7fe6-812a-41a9-8d50-f8de8a0efcdf",
   "metadata": {},
   "outputs": [],
   "source": [
    "# 'Viewer' command only works on image showing, so blink to see second image\n",
    "\n",
    "viewer.blink_once()"
   ]
  },
  {
   "cell_type": "code",
   "execution_count": null,
   "id": "4225a376-73f7-463e-8932-e179b1c969de",
   "metadata": {},
   "outputs": [],
   "source": [
    "# Apply cut\n",
    "\n",
    "viewer.cuts = '95%'"
   ]
  },
  {
   "cell_type": "code",
   "execution_count": null,
   "id": "5b64fb17",
   "metadata": {},
   "outputs": [],
   "source": [
    "# Change colormap for first image\n",
    "viewer.colormap_options\n",
    "viewer.set_colormap('Hot')"
   ]
  },
  {
   "cell_type": "code",
   "execution_count": null,
   "id": "5ab82093-14e4-4c86-8cf4-9a31b439f37d",
   "metadata": {},
   "outputs": [],
   "source": [
    "viewer.blink_once()"
   ]
  },
  {
   "cell_type": "code",
   "execution_count": null,
   "id": "b9e0e285-05ff-4db8-9fde-2f9859e410ef",
   "metadata": {},
   "outputs": [],
   "source": [
    "# Change colormap for second image\n",
    "viewer.colormap_options\n",
    "viewer.set_colormap('Purple-Blue')"
   ]
  },
  {
   "cell_type": "code",
   "execution_count": null,
   "id": "9040401c",
   "metadata": {},
   "outputs": [],
   "source": [
    "# Add markers representing all objectes detected in photometry catalog\n",
    "\n",
    "viewer.marker = {'color': 'green', 'alpha': 0.8, 'markersize': 10, 'fill': False}\n",
    "calib_cat_F560W = Table.read('./mastDownload/JWST/jw02733-o001_t001_nircam_clear-f090w/jw02733-o001_t001_nircam_clear-f090w_cat.ecsv')\n",
    "coord_i2d = Table({'coord': [SkyCoord(ra=calib_cat_F560W['sky_centroid'].ra.degree, dec=calib_cat_F560W['sky_centroid'].dec.degree, unit=\"deg\")]})"
   ]
  },
  {
   "cell_type": "code",
   "execution_count": null,
   "id": "f888c0ce",
   "metadata": {},
   "outputs": [],
   "source": [
    "viewer.add_markers(coord_i2d, use_skycoord=True, marker_name='my_sky')"
   ]
  },
  {
   "cell_type": "code",
   "execution_count": null,
   "id": "fca6ddfe",
   "metadata": {},
   "outputs": [],
   "source": [
    "# Remove markers\n",
    "\n",
    "viewer.remove_markers(marker_name='my_sky')"
   ]
  },
  {
   "cell_type": "markdown",
   "id": "5630029f-31d1-42cd-8454-225e86cabc48",
   "metadata": {},
   "source": [
    "<hr style=\"border:1px solid gray\"> </hr>"
   ]
  },
  {
   "cell_type": "markdown",
   "id": "843b5201-6f57-46f0-9da0-b738714178d3",
   "metadata": {},
   "source": [
    "<img style=\"float: center;\" src=\"https://raw.githubusercontent.com/spacetelescope/notebooks/master/assets/stsci_pri_combo_mark_horizonal_white_bkgd.png\" alt=\"Space Telescope Logo\" width=\"200px\"/>"
   ]
  }
 ],
 "metadata": {
  "kernelspec": {
   "display_name": "Python 3 (ipykernel)",
   "language": "python",
   "name": "python3"
  },
  "language_info": {
   "codemirror_mode": {
    "name": "ipython",
    "version": 3
   },
   "file_extension": ".py",
   "mimetype": "text/x-python",
   "name": "python",
   "nbconvert_exporter": "python",
   "pygments_lexer": "ipython3",
   "version": "3.9.12"
  },
  "toc-showcode": false
 },
 "nbformat": 4,
 "nbformat_minor": 5
}
